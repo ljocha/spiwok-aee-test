{
 "cells": [
  {
   "cell_type": "code",
   "execution_count": 1,
   "id": "3312b47c",
   "metadata": {},
   "outputs": [],
   "source": [
    "from keras.layers import Input, Dense, Reshape, Flatten\n",
    "from keras.layers import BatchNormalization\n",
    "from keras.layers.advanced_activations import LeakyReLU\n",
    "from keras.models import Sequential, Model\n",
    "#from keras.optimizers import Adam\n",
    "import tensorflow as tf\n",
    "#kb.set_session(kb.tf.Session(config=kb.tf.ConfigProto(intra_op_parallelism_threads=12, inter_op_parallelism_threads=12)))\n",
    "#tf.config.threading.set_intra_op_parallelism_threads(12)\n",
    "#tf.config.threading.set_inter_op_parallelism_threads(12)\n",
    "\n",
    "import mdtraj as md\n",
    "import numpy as np\n",
    "import keras as krs"
   ]
  },
  {
   "cell_type": "code",
   "execution_count": 2,
   "id": "789b6d17",
   "metadata": {},
   "outputs": [],
   "source": [
    "# too verbose\n",
    "# tf.debugging.set_log_device_placement(True)"
   ]
  },
  {
   "cell_type": "code",
   "execution_count": 8,
   "id": "ff00a531",
   "metadata": {},
   "outputs": [
    {
     "name": "stdout",
     "output_type": "stream",
     "text": [
      "[PhysicalDevice(name='/physical_device:GPU:0', device_type='GPU'), PhysicalDevice(name='/physical_device:GPU:1', device_type='GPU')]\n",
      "None\n"
     ]
    }
   ],
   "source": [
    "physical_devices = tf.config.list_physical_devices('GPU')\n",
    "print(physical_devices)\n",
    "print(tf.config.get_logical_device_configuration(physical_devices[0]))"
   ]
  },
  {
   "cell_type": "code",
   "execution_count": 30,
   "id": "60a22322",
   "metadata": {},
   "outputs": [
    {
     "name": "stderr",
     "output_type": "stream",
     "text": [
      "mdtraj/rmsd/src/theobald_rmsd.cpp UNCONVERGED ROTATION MATRIX. RETURNING IDENTITY=296\n",
      "mdtraj/rmsd/src/theobald_rmsd.cpp UNCONVERGED ROTATION MATRIX. RETURNING IDENTITY=296\n",
      "mdtraj/rmsd/src/theobald_rmsd.cpp UNCONVERGED ROTATION MATRIX. RETURNING IDENTITY=296\n",
      "mdtraj/rmsd/src/theobald_rmsd.cpp UNCONVERGED ROTATION MATRIX. RETURNING IDENTITY=296\n",
      "mdtraj/rmsd/src/theobald_rmsd.cpp UNCONVERGED ROTATION MATRIX. RETURNING IDENTITY=296\n",
      "mdtraj/rmsd/src/theobald_rmsd.cpp UNCONVERGED ROTATION MATRIX. RETURNING IDENTITY=296\n",
      "mdtraj/rmsd/src/theobald_rmsd.cpp UNCONVERGED ROTATION MATRIX. RETURNING IDENTITY=296\n"
     ]
    }
   ],
   "source": [
    "refpdb = md.load_pdb(\"md_ala_final_noPBC_fit_noH.pdb\")\n",
    "X = md.load(\"md_ala_final_noPBC_fit_noH.xtc\", top=\"md_ala_final_noPBC_fit_noH.pdb\")\n",
    "X.superpose(refpdb)\n",
    "Xt = np.zeros((X.n_frames, X.n_atoms*3, 1))\n",
    "for i in range(X.n_frames):\n",
    "  for j in range(X.n_atoms):\n",
    "    Xt[i,3*j,0] = X.xyz[i,j,0]\n",
    "    Xt[i,3*j+1,0] = X.xyz[i,j,1]\n",
    "    Xt[i,3*j+2,0] = X.xyz[i,j,2]\n",
    "X_train = Xt\n",
    "scale = [np.min(X_train), np.max(X_train)]\n",
    "X_train = (X_train - scale[0])/(scale[1] - scale[0])"
   ]
  },
  {
   "cell_type": "code",
   "execution_count": 34,
   "id": "aacf0691",
   "metadata": {},
   "outputs": [],
   "source": [
    "#dev='/GPU:0'\n",
    "dev='/CPU:0'"
   ]
  },
  {
   "cell_type": "code",
   "execution_count": 35,
   "id": "1254e357",
   "metadata": {},
   "outputs": [],
   "source": [
    "with tf.device(dev):\n",
    "    input_coord = krs.layers.Input(shape=(3*X.n_atoms,))\n",
    "    encoded = krs.layers.Dense(32, activation='sigmoid', use_bias=True)(input_coord)\n",
    "    encoded = krs.layers.Dense(32, activation='sigmoid', use_bias=True)(encoded)\n",
    "    encoded = krs.layers.Dense(2, activation='linear', use_bias=True)(encoded)\n",
    "\n",
    "    decoded = krs.layers.Dense(32, activation='sigmoid', use_bias=True)(encoded)\n",
    "    decoded = krs.layers.Dense(32, activation='sigmoid', use_bias=True)(decoded)\n",
    "    decoded = krs.layers.Dense(3*X.n_atoms, activation='linear', use_bias=True)(decoded)\n",
    "    codecvs = krs.models.Model(input_coord, decoded)\n",
    "    encoder = krs.models.Model(input_coord, encoded)\n",
    "\n",
    "    codecvs.compile(optimizer='Adam', loss='mean_squared_error')"
   ]
  },
  {
   "cell_type": "code",
   "execution_count": 36,
   "id": "4ce5fb9b",
   "metadata": {},
   "outputs": [
    {
     "name": "stdout",
     "output_type": "stream",
     "text": [
      "Epoch 1/5\n",
      "3907/3907 [==============================] - 6s 2ms/step - loss: 0.0041 - val_loss: 4.1571e-04\n",
      "Epoch 2/5\n",
      "3907/3907 [==============================] - 6s 2ms/step - loss: 2.5051e-04 - val_loss: 5.7953e-05\n",
      "Epoch 3/5\n",
      "3907/3907 [==============================] - 6s 2ms/step - loss: 5.6839e-05 - val_loss: 5.8149e-05\n",
      "Epoch 4/5\n",
      "3907/3907 [==============================] - 6s 1ms/step - loss: 5.6617e-05 - val_loss: 5.8004e-05\n",
      "Epoch 5/5\n",
      "3907/3907 [==============================] - 6s 1ms/step - loss: 5.5165e-05 - val_loss: 5.8445e-05\n"
     ]
    }
   ],
   "source": [
    "with tf.device(dev):\n",
    "    history = codecvs.fit(X_train, X_train,\n",
    "            epochs=5,\n",
    "            batch_size=256,\n",
    "            validation_data=(X_train, X_train))"
   ]
  },
  {
   "cell_type": "code",
   "execution_count": null,
   "id": "3ade62fb",
   "metadata": {},
   "outputs": [],
   "source": [
    "coded_ala = encoder.predict(X_train)\n",
    "np.savetxt(\"out.txt\", coded_ala)\n",
    "np.savetxt(\"loss.txt\", history.history['loss'])"
   ]
  },
  {
   "cell_type": "code",
   "execution_count": null,
   "id": "ef7dac45",
   "metadata": {},
   "outputs": [],
   "source": [
    "decoded_ala = codecvs.predict(X_train)\n",
    "decoded_ala = decoded_ala*(scale[1] - scale[0]) + scale[0]\n",
    "np.savetxt(\"outc.txt\", decoded_ala)"
   ]
  }
 ],
 "metadata": {
  "kernelspec": {
   "display_name": "Python 3 (ipykernel)",
   "language": "python",
   "name": "python3"
  },
  "language_info": {
   "codemirror_mode": {
    "name": "ipython",
    "version": 3
   },
   "file_extension": ".py",
   "mimetype": "text/x-python",
   "name": "python",
   "nbconvert_exporter": "python",
   "pygments_lexer": "ipython3",
   "version": "3.8.10"
  }
 },
 "nbformat": 4,
 "nbformat_minor": 5
}
